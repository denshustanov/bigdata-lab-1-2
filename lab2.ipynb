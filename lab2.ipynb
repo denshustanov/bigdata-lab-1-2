{
 "cells": [
  {
   "cell_type": "code",
   "execution_count": 1,
   "id": "27dafaae-6c2a-448b-bf60-c175de220e3f",
   "metadata": {},
   "outputs": [],
   "source": [
    "from pyspark import SparkContext, SparkConf \n",
    "from pyspark.sql import SparkSession\n",
    "import pyspark.sql as sql\n",
    "import os\n",
    "\n",
    "os.environ['PYSPARK_SUBMIT_ARGS'] = '--packages com.databricks:spark-xml_2.12:0.14.0 pyspark-shell'"
   ]
  },
  {
   "cell_type": "code",
   "execution_count": 2,
   "id": "7c6d68a5-4c4a-42f7-9a1b-b6c8287da6d9",
   "metadata": {},
   "outputs": [],
   "source": [
    "conf = SparkConf().setAppName(\"6132_Shustanov_2\").setMaster('yarn')\n",
    "context = SparkContext(conf=conf)"
   ]
  },
  {
   "cell_type": "code",
   "execution_count": 3,
   "id": "21645301-f64b-4a90-a4a9-92b8e65a70cd",
   "metadata": {},
   "outputs": [],
   "source": [
    "session = SparkSession(context)"
   ]
  },
  {
   "cell_type": "code",
   "execution_count": 4,
   "id": "e6b3dfca-d904-4a28-8b4a-c86140c5ae4c",
   "metadata": {},
   "outputs": [
    {
     "name": "stdout",
     "output_type": "stream",
     "text": [
      "root\n",
      " |-- _AcceptedAnswerId: long (nullable = true)\n",
      " |-- _AnswerCount: long (nullable = true)\n",
      " |-- _Body: string (nullable = true)\n",
      " |-- _ClosedDate: timestamp (nullable = true)\n",
      " |-- _CommentCount: long (nullable = true)\n",
      " |-- _CommunityOwnedDate: timestamp (nullable = true)\n",
      " |-- _CreationDate: timestamp (nullable = true)\n",
      " |-- _FavoriteCount: long (nullable = true)\n",
      " |-- _Id: long (nullable = true)\n",
      " |-- _LastActivityDate: timestamp (nullable = true)\n",
      " |-- _LastEditDate: timestamp (nullable = true)\n",
      " |-- _LastEditorDisplayName: string (nullable = true)\n",
      " |-- _LastEditorUserId: long (nullable = true)\n",
      " |-- _OwnerDisplayName: string (nullable = true)\n",
      " |-- _OwnerUserId: long (nullable = true)\n",
      " |-- _ParentId: long (nullable = true)\n",
      " |-- _PostTypeId: long (nullable = true)\n",
      " |-- _Score: long (nullable = true)\n",
      " |-- _Tags: string (nullable = true)\n",
      " |-- _Title: string (nullable = true)\n",
      " |-- _ViewCount: long (nullable = true)\n",
      "\n"
     ]
    }
   ],
   "source": [
    "posts_sample = session.read.format('xml')\\\n",
    ".option('rootTag', 'posts')\\\n",
    ".option('rowTag', 'row')\\\n",
    ".load(\"posts_sample.xml\")\n",
    "posts_sample.printSchema()"
   ]
  },
  {
   "cell_type": "code",
   "execution_count": 9,
   "id": "74c90d96-88c0-43e2-bb2f-dac7040d6f2a",
   "metadata": {},
   "outputs": [
    {
     "name": "stdout",
     "output_type": "stream",
     "text": [
      "root\n",
      " |-- name: string (nullable = true)\n",
      "\n"
     ]
    }
   ],
   "source": [
    "langs = session.read\\\n",
    ".option(\"header\", True)\\\n",
    ".option(\"inferSchema\", True)\\\n",
    ".csv('programming-languages.csv').select('name')\n",
    "langs.printSchema()"
   ]
  },
  {
   "cell_type": "code",
   "execution_count": 5,
   "id": "d17d6bfe-da20-4bce-8e5d-92d6a1e2d0b5",
   "metadata": {},
   "outputs": [
    {
     "name": "stdout",
     "output_type": "stream",
     "text": [
      "+----+----------+--------------------+\n",
      "|year|_ViewCount|               _Tags|\n",
      "+----+----------+--------------------+\n",
      "|2010|      3650|<c++><character-e...|\n",
      "|2010|       617|<sharepoint><info...|\n",
      "|2010|      1315|<iphone><app-stor...|\n",
      "|2010|       973|<symfony1><schema...|\n",
      "|2010|       132|              <java>|\n",
      "|2010|       419|<visual-studio-20...|\n",
      "|2010|       869|<cakephp><file-up...|\n",
      "|2010|      1303|<git><cygwin><putty>|\n",
      "|2010|       748|  <drupal><drupal-6>|\n",
      "|2010|      1258|<php><wordpress><...|\n",
      "|2010|     14972|<c#><winforms><da...|\n",
      "|2010|       274|<c#><asp.net><exc...|\n",
      "|2010|       804|    <sql><xml><blob>|\n",
      "|2010|      6019|<.htaccess><codei...|\n",
      "|2010|      5456|<wcf><web-service...|\n",
      "|2010|       316|<mod-rewrite><apa...|\n",
      "|2010|     15477|<sql><database><d...|\n",
      "|2010|      9649|         <ruby><rvm>|\n",
      "|2010|     20199|  <android><eclipse>|\n",
      "|2010|       735|<iphone><uiimagev...|\n",
      "+----+----------+--------------------+\n",
      "only showing top 20 rows\n",
      "\n"
     ]
    }
   ],
   "source": [
    "from pyspark.sql.functions import year\n",
    "posts_sample_n = posts_sample.select(year('_CreationDate').alias('year'), '_ViewCount', '_Tags').dropna()\n",
    "posts_sample_n = posts_sample_n.filter('year < 2021 and year > 2009')\n",
    "posts_sample_n.show()"
   ]
  },
  {
   "cell_type": "code",
   "execution_count": 6,
   "id": "2149f4d4-e179-426e-9561-453830d9746d",
   "metadata": {},
   "outputs": [],
   "source": [
    "posts_sample_n = posts_sample_n.rdd.map(lambda entry: (entry[0], entry[1], str(entry[2])[1:-1].split('><'))).toDF(['year', 'view_count', 'tags'])"
   ]
  },
  {
   "cell_type": "code",
   "execution_count": 7,
   "id": "d82041ba-d7f4-44cf-beef-c6405e1e6290",
   "metadata": {},
   "outputs": [
    {
     "name": "stdout",
     "output_type": "stream",
     "text": [
      "+----+----------+------------------+\n",
      "|year|view_count|              lang|\n",
      "+----+----------+------------------+\n",
      "|2010|      3650|               c++|\n",
      "|2010|      3650|character-encoding|\n",
      "|2010|       617|        sharepoint|\n",
      "|2010|       617|          infopath|\n",
      "|2010|      1315|            iphone|\n",
      "|2010|      1315|         app-store|\n",
      "|2010|      1315|   in-app-purchase|\n",
      "|2010|       973|          symfony1|\n",
      "|2010|       973|            schema|\n",
      "|2010|       973|          doctrine|\n",
      "|2010|       973|          fixtures|\n",
      "|2010|       132|              java|\n",
      "|2010|       419|visual-studio-2010|\n",
      "|2010|       419|          stylecop|\n",
      "|2010|       869|           cakephp|\n",
      "|2010|       869|       file-upload|\n",
      "|2010|       869|         swfupload|\n",
      "|2010|      1303|               git|\n",
      "|2010|      1303|            cygwin|\n",
      "|2010|      1303|             putty|\n",
      "+----+----------+------------------+\n",
      "only showing top 20 rows\n",
      "\n"
     ]
    }
   ],
   "source": [
    "from pyspark.sql.functions import explode\n",
    "\n",
    "posts_sample_n = posts_sample_n.select('year', 'view_count', explode('tags')).withColumnRenamed('col', 'lang')\n",
    "posts_sample_n.show()"
   ]
  },
  {
   "cell_type": "code",
   "execution_count": 10,
   "id": "4f7888f1-9b39-48a6-bf0e-e50a3ac80ba5",
   "metadata": {},
   "outputs": [
    {
     "name": "stdout",
     "output_type": "stream",
     "text": [
      "+----+----------+-----------+\n",
      "|year|view_count|       lang|\n",
      "+----+----------+-----------+\n",
      "|2010|       132|       java|\n",
      "|2010|      1258|        php|\n",
      "|2010|      9649|       ruby|\n",
      "|2010|      2384|          c|\n",
      "|2010|      1987|        php|\n",
      "|2010|      3321|     python|\n",
      "|2010|       128| javascript|\n",
      "|2010|       477|applescript|\n",
      "|2010|      1748|        php|\n",
      "|2010|       998|        php|\n",
      "|2010|      2095| javascript|\n",
      "|2010|       447|        sed|\n",
      "|2010|      6558|     python|\n",
      "|2010|       214|       java|\n",
      "|2010|       214|       ruby|\n",
      "|2010|       852|objective-c|\n",
      "|2010|       179| javascript|\n",
      "|2010|      6709|          r|\n",
      "|2010|        78|        php|\n",
      "|2010|      1280| javascript|\n",
      "+----+----------+-----------+\n",
      "only showing top 20 rows\n",
      "\n"
     ]
    }
   ],
   "source": [
    "from pyspark.sql.functions import lower, sum\n",
    "\n",
    "posts_sample_n = posts_sample_n.crossJoin(langs.withColumn('name', lower('name'))).where('lang=name').drop('name')\n",
    "posts_sample_n.show()"
   ]
  },
  {
   "cell_type": "code",
   "execution_count": 11,
   "id": "d8c756d0-f3fa-424f-ad5c-242780fb98c0",
   "metadata": {},
   "outputs": [],
   "source": [
    "posts_sample_n = posts_sample_n.groupBy('year', 'lang').agg(sum('view_count'))"
   ]
  },
  {
   "cell_type": "code",
   "execution_count": 12,
   "id": "f57f6e70-34c6-447b-b5d6-75b9fbc4daa2",
   "metadata": {},
   "outputs": [
    {
     "name": "stdout",
     "output_type": "stream",
     "text": [
      "+----+-----------+----------+\n",
      "|year|       lang|view_count|\n",
      "+----+-----------+----------+\n",
      "|2010|        php|   1189629|\n",
      "|2010|       java|    563211|\n",
      "|2010| javascript|    316131|\n",
      "|2010|objective-c|     97009|\n",
      "|2010|       ruby|     76215|\n",
      "|2010|          c|     66587|\n",
      "|2010|     python|     60672|\n",
      "|2010|     matlab|     51865|\n",
      "|2010|applescript|     32305|\n",
      "|2010|     delphi|     13065|\n",
      "|2011| javascript|    809078|\n",
      "|2011|       java|    389834|\n",
      "|2011|        php|    246770|\n",
      "|2011|          c|    238277|\n",
      "|2011|objective-c|    218934|\n",
      "|2011|     python|    203180|\n",
      "|2011|       bash|     60805|\n",
      "|2011|       ruby|     39223|\n",
      "|2011|       perl|     28502|\n",
      "|2011|     matlab|     18816|\n",
      "+----+-----------+----------+\n",
      "only showing top 20 rows\n",
      "\n"
     ]
    }
   ],
   "source": [
    "from pyspark.sql.window import Window\n",
    "from pyspark.sql.functions import row_number, col\n",
    "\n",
    "window = Window.partitionBy(posts_sample_n.year).orderBy(col(\"sum(view_count)\").desc())\n",
    "window_df = posts_sample_n.withColumn(\"grade\", row_number().over(window))\n",
    "window_df = window_df.withColumnRenamed(\"sum(view_count)\", \"view_count\").filter('grade <=10').drop('grade').orderBy(col('year').asc(), col('view_count').desc())\n",
    "window_df.show()"
   ]
  },
  {
   "cell_type": "code",
   "execution_count": 13,
   "id": "264c3579-f83c-4124-b84c-d2ca178b0060",
   "metadata": {},
   "outputs": [],
   "source": [
    "window_df.coalesce(1).write.mode('overwrite').parquet(\"langs_rating.parquet\")"
   ]
  },
  {
   "cell_type": "code",
   "execution_count": 14,
   "id": "3024eae0-1b9f-4de6-b005-68d3c6ce26cf",
   "metadata": {},
   "outputs": [
    {
     "name": "stdout",
     "output_type": "stream",
     "text": [
      "get: `langs_rating.parquet/_SUCCESS': File exists\n"
     ]
    }
   ],
   "source": [
    "!hadoop fs -get 'langs_rating.parquet' ."
   ]
  },
  {
   "cell_type": "code",
   "execution_count": 15,
   "id": "fafbe62c-6e9e-4765-90f5-f05dce674531",
   "metadata": {},
   "outputs": [],
   "source": [
    "session.stop()"
   ]
  },
  {
   "cell_type": "code",
   "execution_count": null,
   "id": "b234d7b4-3255-4868-94f2-234d344839c5",
   "metadata": {},
   "outputs": [],
   "source": []
  }
 ],
 "metadata": {
  "kernelspec": {
   "display_name": "Python 3",
   "language": "python",
   "name": "python3"
  },
  "language_info": {
   "codemirror_mode": {
    "name": "ipython",
    "version": 3
   },
   "file_extension": ".py",
   "mimetype": "text/x-python",
   "name": "python",
   "nbconvert_exporter": "python",
   "pygments_lexer": "ipython3",
   "version": "3.9.5"
  }
 },
 "nbformat": 4,
 "nbformat_minor": 5
}
