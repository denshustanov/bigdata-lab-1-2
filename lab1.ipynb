{
 "cells": [
  {
   "cell_type": "code",
   "execution_count": 1,
   "id": "2cbc4dbd-f2f4-4091-a74d-a1ea3b8e35dc",
   "metadata": {},
   "outputs": [],
   "source": [
    "from pyspark import SparkContext, SparkConf"
   ]
  },
  {
   "cell_type": "code",
   "execution_count": 2,
   "id": "5f88c774-e8b1-4ffd-b227-ec4dfb5e75f2",
   "metadata": {},
   "outputs": [],
   "source": [
    "conf = SparkConf().setAppName(\"6132_Shustanov_1\").setMaster('yarn')\n",
    "context = SparkContext(conf=conf)"
   ]
  },
  {
   "cell_type": "code",
   "execution_count": 3,
   "id": "88146529-7648-4dc8-baad-60c42cdc65cb",
   "metadata": {},
   "outputs": [],
   "source": [
    "from pyspark.sql import SparkSession\n",
    "\n",
    "session = SparkSession(context)"
   ]
  },
  {
   "cell_type": "code",
   "execution_count": 4,
   "id": "011f36fd-4416-4caf-93a8-d10092b83c8c",
   "metadata": {},
   "outputs": [],
   "source": [
    "tripData = session.read\\\n",
    ".option(\"header\", True)\\\n",
    ".option(\"inferSchema\", True)\\\n",
    ".option(\"timestampFormat\", 'M/d/y H:m')\\\n",
    ".csv(\"trips.csv\")"
   ]
  },
  {
   "cell_type": "code",
   "execution_count": 5,
   "id": "81b58c3c-a871-4e7f-8d44-3ce2b14fae40",
   "metadata": {},
   "outputs": [
    {
     "name": "stdout",
     "output_type": "stream",
     "text": [
      "root\n",
      " |-- id: integer (nullable = true)\n",
      " |-- duration: integer (nullable = true)\n",
      " |-- start_date: timestamp (nullable = true)\n",
      " |-- start_station_name: string (nullable = true)\n",
      " |-- start_station_id: integer (nullable = true)\n",
      " |-- end_date: timestamp (nullable = true)\n",
      " |-- end_station_name: string (nullable = true)\n",
      " |-- end_station_id: integer (nullable = true)\n",
      " |-- bike_id: integer (nullable = true)\n",
      " |-- subscription_type: string (nullable = true)\n",
      " |-- zip_code: string (nullable = true)\n",
      "\n"
     ]
    }
   ],
   "source": [
    "tripData.printSchema()"
   ]
  },
  {
   "cell_type": "code",
   "execution_count": 6,
   "id": "8a996e03-74ed-411b-9205-e9fd924f8d43",
   "metadata": {},
   "outputs": [
    {
     "data": {
      "text/plain": [
       "Row(id=4576, duration=63, start_date=None, start_station_name='South Van Ness at Market', start_station_id=66, end_date=datetime.datetime(2013, 8, 29, 14, 14), end_station_name='South Van Ness at Market', end_station_id=66, bike_id=520, subscription_type='Subscriber', zip_code='94127')"
      ]
     },
     "execution_count": 6,
     "metadata": {},
     "output_type": "execute_result"
    }
   ],
   "source": [
    "tripData.head()"
   ]
  },
  {
   "cell_type": "code",
   "execution_count": 7,
   "id": "54872ce7-cc36-4884-8f36-586e420fc4e8",
   "metadata": {},
   "outputs": [],
   "source": [
    "station_data = session.read\\\n",
    ".option(\"header\", True)\\\n",
    ".option(\"inferSchema\", True)\\\n",
    ".option(\"timestampFormat\", 'M/d/y')\\\n",
    ".csv(\"stations.csv\")"
   ]
  },
  {
   "cell_type": "code",
   "execution_count": 8,
   "id": "8086027a-50aa-47f6-b9dd-2464f0e79eb5",
   "metadata": {},
   "outputs": [
    {
     "name": "stdout",
     "output_type": "stream",
     "text": [
      "root\n",
      " |-- id: integer (nullable = true)\n",
      " |-- name: string (nullable = true)\n",
      " |-- lat: double (nullable = true)\n",
      " |-- long: double (nullable = true)\n",
      " |-- dock_count: integer (nullable = true)\n",
      " |-- city: string (nullable = true)\n",
      " |-- installation_date: timestamp (nullable = true)\n",
      "\n"
     ]
    }
   ],
   "source": [
    "station_data.printSchema()"
   ]
  },
  {
   "cell_type": "code",
   "execution_count": 9,
   "id": "17b296d4-cde4-41b4-ba53-71a98551fad3",
   "metadata": {},
   "outputs": [
    {
     "name": "stdout",
     "output_type": "stream",
     "text": [
      "+-------+--------+\n",
      "|bike_id|     run|\n",
      "+-------+--------+\n",
      "|    535|36229902|\n",
      "+-------+--------+\n",
      "\n"
     ]
    }
   ],
   "source": [
    "# task1 Найти велосипед с максимальным временем пробега.\n",
    "\n",
    "from pyspark.sql.functions import sum, desc\n",
    "\n",
    "tripData.groupBy('bike_id').agg(sum('duration').alias('run')).sort(desc('run')).limit(1).show()"
   ]
  },
  {
   "cell_type": "code",
   "execution_count": 10,
   "id": "36ec65a6-c352-4f6b-9b93-5457046ed6a8",
   "metadata": {},
   "outputs": [
    {
     "data": {
      "text/plain": [
       "69.92087595428183"
      ]
     },
     "execution_count": 10,
     "metadata": {},
     "output_type": "execute_result"
    }
   ],
   "source": [
    "# task2 Найти наибольшее геодезическое расстояние между станциями.\n",
    "from math import sin, cos, sqrt, atan2, radians\n",
    "\n",
    "def distance(lat1, lon1, lat2, lon2):\n",
    "    lat1 = radians(lat1)\n",
    "    lon1 = radians(lon1)\n",
    "    lat2 = radians(lat2)\n",
    "    lon2 = radians(lon2)\n",
    "    \n",
    "    dlon = lon2 - lon1\n",
    "    dlat = lat2 - lat1\n",
    "\n",
    "    a = sin(dlat / 2)**2 + cos(lat1) * cos(lat2) * sin(dlon / 2)**2\n",
    "    c = 2 * atan2(sqrt(a), sqrt(1 - a))\n",
    "\n",
    "    return 6371 * c\n",
    "\n",
    "station_data.crossJoin(station_data).rdd.map(lambda entry: distance(entry[2], entry[3], entry[9], entry[10])).max()"
   ]
  },
  {
   "cell_type": "code",
   "execution_count": 11,
   "id": "4bb0528f-0a89-4cb5-ac8d-c8d95712c2e7",
   "metadata": {},
   "outputs": [
    {
     "name": "stdout",
     "output_type": "stream",
     "text": [
      "+----------------+--------------+\n",
      "|start_station_id|end_station_id|\n",
      "+----------------+--------------+\n",
      "|              70|            69|\n",
      "|              47|            70|\n",
      "|              77|            64|\n",
      "|              69|            77|\n",
      "|              61|            42|\n",
      "|              58|            72|\n",
      "|              72|            47|\n",
      "|              47|            60|\n",
      "|              60|            46|\n",
      "|              46|            77|\n",
      "|              77|            77|\n",
      "|              77|            62|\n",
      "|              62|            61|\n",
      "|              55|            61|\n",
      "|              61|            60|\n",
      "|              60|            41|\n",
      "|              41|            50|\n",
      "|              50|            41|\n",
      "|              41|            70|\n",
      "|              70|            74|\n",
      "+----------------+--------------+\n",
      "only showing top 20 rows\n",
      "\n"
     ]
    }
   ],
   "source": [
    "# task3 путь велосипеда с максимальным временем пробега через станции\n",
    "# использован bike_id найденный в первом задании\n",
    "\n",
    "# поездки велосипеда, \n",
    "route = tripData.select('start_station_id', 'end_station_id').where('bike_id=535')\n",
    "route.show()"
   ]
  },
  {
   "cell_type": "code",
   "execution_count": 12,
   "id": "e7a19c76-4c13-40aa-b175-a744397bdcaa",
   "metadata": {},
   "outputs": [
    {
     "name": "stdout",
     "output_type": "stream",
     "text": [
      "+---+--------------------+------------------+-------------------+-----------+------------+-------------------+\n",
      "|id2|               name2|              lat2|              long2|dock_count2|       city2| installation_date2|\n",
      "+---+--------------------+------------------+-------------------+-----------+------------+-------------------+\n",
      "|  2|San Jose Diridon ...|         37.329732|-121.90178200000001|         27|    San Jose|2013-08-06 00:00:00|\n",
      "|  3|San Jose Civic Ce...|         37.330698|        -121.888979|         15|    San Jose|2013-08-05 00:00:00|\n",
      "|  4|Santa Clara at Al...|         37.333988|        -121.894902|         11|    San Jose|2013-08-06 00:00:00|\n",
      "|  5|    Adobe on Almaden|         37.331415|          -121.8932|         19|    San Jose|2013-08-05 00:00:00|\n",
      "|  6|    San Pedro Square|37.336721000000004|        -121.894074|         15|    San Jose|2013-08-07 00:00:00|\n",
      "|  7|Paseo de San Antonio|         37.333798|-121.88694299999999|         15|    San Jose|2013-08-07 00:00:00|\n",
      "|  8| San Salvador at 1st|         37.330165|-121.88583100000001|         15|    San Jose|2013-08-05 00:00:00|\n",
      "|  9|           Japantown|         37.348742|-121.89471499999999|         15|    San Jose|2013-08-05 00:00:00|\n",
      "| 10|  San Jose City Hall|         37.337391|        -121.886995|         15|    San Jose|2013-08-06 00:00:00|\n",
      "| 11|         MLK Library|         37.335885|-121.88566000000002|         19|    San Jose|2013-08-06 00:00:00|\n",
      "| 12|SJSU 4th at San C...|         37.332808|-121.88389099999999|         19|    San Jose|2013-08-07 00:00:00|\n",
      "| 13|       St James Park|         37.339301|-121.88993700000002|         15|    San Jose|2013-08-06 00:00:00|\n",
      "| 14|Arena Green / SAP...|         37.332692|        -121.900084|         19|    San Jose|2013-08-05 00:00:00|\n",
      "| 16|SJSU - San Salvad...|37.333954999999996|        -121.877349|         15|    San Jose|2013-08-07 00:00:00|\n",
      "| 21|   Franklin at Maple|         37.481758|        -122.226904|         15|Redwood City|2013-08-12 00:00:00|\n",
      "| 22|Redwood City Calt...|37.486078000000006|-122.23208899999999|         25|Redwood City|2013-08-15 00:00:00|\n",
      "| 23|San Mateo County ...|37.487615999999996|        -122.229951|         15|Redwood City|2013-08-15 00:00:00|\n",
      "| 24|Redwood City Publ...|         37.484219|        -122.227424|         15|Redwood City|2013-08-12 00:00:00|\n",
      "| 25|Stanford in Redwo...|          37.48537|-122.20328799999999|         15|Redwood City|2013-08-12 00:00:00|\n",
      "| 26|Redwood City Medi...|         37.487682|        -122.223492|         15|Redwood City|2013-08-12 00:00:00|\n",
      "+---+--------------------+------------------+-------------------+-----------+------------+-------------------+\n",
      "only showing top 20 rows\n",
      "\n"
     ]
    }
   ],
   "source": [
    "station2 = station_data.toDF(\"id2\", \"name2\", \"lat2\", \"long2\", \"dock_count2\", \"city2\", \"installation_date2\")\n",
    "station2.show()"
   ]
  },
  {
   "cell_type": "code",
   "execution_count": 13,
   "id": "52f564fe-991b-4497-9392-d8404ef6800d",
   "metadata": {},
   "outputs": [
    {
     "name": "stdout",
     "output_type": "stream",
     "text": [
      "+----------------+--------------+---+--------------------+---------+-------------------+----------+-------------+-------------------+---+--------------------+---------+-------------------+-----------+-------------+-------------------+\n",
      "|start_station_id|end_station_id| id|                name|      lat|               long|dock_count|         city|  installation_date|id2|               name2|     lat2|              long2|dock_count2|        city2| installation_date2|\n",
      "+----------------+--------------+---+--------------------+---------+-------------------+----------+-------------+-------------------+---+--------------------+---------+-------------------+-----------+-------------+-------------------+\n",
      "|              70|            69| 70|San Francisco Cal...|37.776617|-122.39526000000001|        19|San Francisco|2013-08-23 00:00:00| 69|San Francisco Cal...|  37.7766|-122.39546999999999|         23|San Francisco|2013-08-23 00:00:00|\n",
      "|              47|            70| 47|     Post at Kearney|37.788975|        -122.403452|        19|San Francisco|2013-08-19 00:00:00| 70|San Francisco Cal...|37.776617|-122.39526000000001|         19|San Francisco|2013-08-23 00:00:00|\n",
      "|              77|            64| 77|   Market at Sansome|37.789625|        -122.400811|        27|San Francisco|2013-08-25 00:00:00| 64|   2nd at South Park|37.782259|        -122.392738|         15|San Francisco|2013-08-22 00:00:00|\n",
      "|              69|            77| 69|San Francisco Cal...|  37.7766|-122.39546999999999|        23|San Francisco|2013-08-23 00:00:00| 77|   Market at Sansome|37.789625|        -122.400811|         27|San Francisco|2013-08-25 00:00:00|\n",
      "|              61|            42| 61|     2nd at Townsend|37.780526|-122.39028799999998|        27|San Francisco|2013-08-22 00:00:00| 42|    Davis at Jackson| 37.79728|        -122.398436|         15|San Francisco|2013-08-19 00:00:00|\n",
      "|              58|            72| 58|San Francisco Cit...| 37.77865|-122.41823500000001|        19|San Francisco|2013-08-21 00:00:00| 72|Civic Center BART...|37.781039|        -122.411748|         23|San Francisco|2013-08-23 00:00:00|\n",
      "|              72|            47| 72|Civic Center BART...|37.781039|        -122.411748|        23|San Francisco|2013-08-23 00:00:00| 47|     Post at Kearney|37.788975|        -122.403452|         19|San Francisco|2013-08-19 00:00:00|\n",
      "|              47|            60| 47|     Post at Kearney|37.788975|        -122.403452|        19|San Francisco|2013-08-19 00:00:00| 60|Embarcadero at Sa...| 37.80477|-122.40323400000001|         15|San Francisco|2013-08-21 00:00:00|\n",
      "|              60|            46| 60|Embarcadero at Sa...| 37.80477|-122.40323400000001|        15|San Francisco|2013-08-21 00:00:00| 46|Washington at Kea...|37.795425|-122.40476699999999|         15|San Francisco|2013-08-19 00:00:00|\n",
      "|              46|            77| 46|Washington at Kea...|37.795425|-122.40476699999999|        15|San Francisco|2013-08-19 00:00:00| 77|   Market at Sansome|37.789625|        -122.400811|         27|San Francisco|2013-08-25 00:00:00|\n",
      "|              77|            77| 77|   Market at Sansome|37.789625|        -122.400811|        27|San Francisco|2013-08-25 00:00:00| 77|   Market at Sansome|37.789625|        -122.400811|         27|San Francisco|2013-08-25 00:00:00|\n",
      "|              77|            62| 77|   Market at Sansome|37.789625|        -122.400811|        27|San Francisco|2013-08-25 00:00:00| 62|       2nd at Folsom|37.785299|-122.39623600000002|         19|San Francisco|2013-08-22 00:00:00|\n",
      "|              62|            61| 62|       2nd at Folsom|37.785299|-122.39623600000002|        19|San Francisco|2013-08-22 00:00:00| 61|     2nd at Townsend|37.780526|-122.39028799999998|         27|San Francisco|2013-08-22 00:00:00|\n",
      "|              55|            61| 55|Temporary Transba...|37.789756|-122.39464299999999|        23|San Francisco|2013-08-20 00:00:00| 61|     2nd at Townsend|37.780526|-122.39028799999998|         27|San Francisco|2013-08-22 00:00:00|\n",
      "|              61|            60| 61|     2nd at Townsend|37.780526|-122.39028799999998|        27|San Francisco|2013-08-22 00:00:00| 60|Embarcadero at Sa...| 37.80477|-122.40323400000001|         15|San Francisco|2013-08-21 00:00:00|\n",
      "|              60|            41| 60|Embarcadero at Sa...| 37.80477|-122.40323400000001|        15|San Francisco|2013-08-21 00:00:00| 41|     Clay at Battery|37.795001|         -122.39997|         15|San Francisco|2013-08-19 00:00:00|\n",
      "|              41|            50| 41|     Clay at Battery|37.795001|         -122.39997|        15|San Francisco|2013-08-19 00:00:00| 50|Harry Bridges Pla...|37.795392|        -122.394203|         23|San Francisco|2013-08-20 00:00:00|\n",
      "|              50|            41| 50|Harry Bridges Pla...|37.795392|        -122.394203|        23|San Francisco|2013-08-20 00:00:00| 41|     Clay at Battery|37.795001|         -122.39997|         15|San Francisco|2013-08-19 00:00:00|\n",
      "|              41|            70| 41|     Clay at Battery|37.795001|         -122.39997|        15|San Francisco|2013-08-19 00:00:00| 70|San Francisco Cal...|37.776617|-122.39526000000001|         19|San Francisco|2013-08-23 00:00:00|\n",
      "|              70|            74| 70|San Francisco Cal...|37.776617|-122.39526000000001|        19|San Francisco|2013-08-23 00:00:00| 74|   Steuart at Market|37.794139|        -122.394434|         23|San Francisco|2013-08-25 00:00:00|\n",
      "+----------------+--------------+---+--------------------+---------+-------------------+----------+-------------+-------------------+---+--------------------+---------+-------------------+-----------+-------------+-------------------+\n",
      "only showing top 20 rows\n",
      "\n"
     ]
    },
    {
     "data": {
      "text/plain": [
       "2214.085859118054"
      ]
     },
     "execution_count": 13,
     "metadata": {},
     "output_type": "execute_result"
    }
   ],
   "source": [
    "route_with_station_data = route.crossJoin(station_data).crossJoin(station2).where('start_station_id=id and end_station_id=id2')\n",
    "route_with_station_data.show()\n",
    "route_with_station_data.rdd.map(lambda entry: distance(entry[4], entry[5], entry[11], entry[12])).sum()"
   ]
  },
  {
   "cell_type": "code",
   "execution_count": 14,
   "id": "f887a6ed-fb0d-4552-8b34-62c65bcdeb3d",
   "metadata": {},
   "outputs": [
    {
     "data": {
      "text/plain": [
       "700"
      ]
     },
     "execution_count": 14,
     "metadata": {},
     "output_type": "execute_result"
    }
   ],
   "source": [
    "# task4 количество велосипедов\n",
    "\n",
    "tripData.select('bike_id').distinct().count()"
   ]
  },
  {
   "cell_type": "code",
   "execution_count": 15,
   "id": "8e800473-d224-4aeb-9a8d-a94354d0629d",
   "metadata": {},
   "outputs": [
    {
     "name": "stdout",
     "output_type": "stream",
     "text": [
      "+--------+--------+\n",
      "|zip_code|user_run|\n",
      "+--------+--------+\n",
      "|   94107|75957358|\n",
      "|     nil|70865483|\n",
      "|   94105|35662786|\n",
      "|   95531|34540800|\n",
      "|   94133|31520319|\n",
      "|    null|28944159|\n",
      "|   94103|28175558|\n",
      "|   94102|27269935|\n",
      "|   94111|20320436|\n",
      "|   95112|18257823|\n",
      "|   94109|16330251|\n",
      "|   94110|10902662|\n",
      "|   94040|10328795|\n",
      "|   94117| 9237419|\n",
      "|   94301| 9156218|\n",
      "|   94041| 8650800|\n",
      "|   94306| 8579026|\n",
      "|   94158| 8526623|\n",
      "|   94010| 7667734|\n",
      "|   94025| 7377243|\n",
      "+--------+--------+\n",
      "only showing top 20 rows\n",
      "\n"
     ]
    }
   ],
   "source": [
    "# task5 Найти пользователей потративших на поездки более 3 часов.\n",
    "# в качестве идентификатора пользователя использован атрибут zip_code, полученное значение очевидно некорректно, но какой-либо другой персональной информации в схеме нет\n",
    "\n",
    "tripData.groupBy('zip_code').agg(sum('duration').alias('user_run')).where('user_run > 10800').sort(desc('user_run')).show()"
   ]
  },
  {
   "cell_type": "code",
   "execution_count": 81,
   "id": "a3d8a7a5-414b-44ea-8c63-f7bef78ad893",
   "metadata": {},
   "outputs": [],
   "source": [
    "session.stop()"
   ]
  }
 ],
 "metadata": {
  "kernelspec": {
   "display_name": "Python 3",
   "language": "python",
   "name": "python3"
  },
  "language_info": {
   "codemirror_mode": {
    "name": "ipython",
    "version": 3
   },
   "file_extension": ".py",
   "mimetype": "text/x-python",
   "name": "python",
   "nbconvert_exporter": "python",
   "pygments_lexer": "ipython3",
   "version": "3.9.5"
  }
 },
 "nbformat": 4,
 "nbformat_minor": 5
}
